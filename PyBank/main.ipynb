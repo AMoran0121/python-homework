{
 "cells": [
  {
   "cell_type": "code",
   "execution_count": null,
   "metadata": {},
   "outputs": [],
   "source": [
    "# Homework #2 required output:\n",
    "# The total number of months included in the dataset.\n",
    "# The net total amount of Profit/Losses over the entire period.\n",
    "# The average total amount of Profit/Losses over the entire period.\n",
    "# The greatest increase in profits (date and amount) over the entire period.\n",
    "# The greatest decrease in losses (date and amount) over the entire period."
   ]
  },
  {
   "cell_type": "code",
   "execution_count": 22,
   "metadata": {},
   "outputs": [
    {
     "name": "stdout",
     "output_type": "stream",
     "text": [
      "C:\\Users\\Arthur\\Documents\\python-homework\\PyBank\n"
     ]
    }
   ],
   "source": [
    "# Import from Gitlab \n",
    "from pathlib import Path\n",
    "import csv\n",
    "print(f\"{Path.cwd()}\")"
   ]
  },
  {
   "cell_type": "code",
   "execution_count": 29,
   "metadata": {},
   "outputs": [],
   "source": [
    "# Set file path\n",
    "csvpath = Path(\"C:/Users/Arthur/Documents/python-homework/PyBank/Homework_02-Python_Instructions_PyBank_Resources_budget_data.csv\")"
   ]
  },
  {
   "cell_type": "code",
   "execution_count": 19,
   "metadata": {},
   "outputs": [],
   "source": [
    "# Initialize variable to hold monthly pnl change\n",
    "pnl_change = []"
   ]
  },
  {
   "cell_type": "code",
   "execution_count": 30,
   "metadata": {},
   "outputs": [],
   "source": [
    "# Initialize line_num variable\n",
    "line_num = 0"
   ]
  },
  {
   "cell_type": "code",
   "execution_count": 34,
   "metadata": {},
   "outputs": [
    {
     "name": "stdout",
     "output_type": "stream",
     "text": [
      "<class '_io.TextIOWrapper'>\n"
     ]
    }
   ],
   "source": [
    "# Open the input path as a file object\n",
    "with open(csvpath, 'r') as csv_file:\n",
    "    print(type(csvfile))"
   ]
  },
  {
   "cell_type": "code",
   "execution_count": null,
   "metadata": {},
   "outputs": [],
   "source": [
    "# Define Variables\n",
    "\n",
    "month = 0\n",
    "pnl = 0 \n",
    "profitable_month = 0\n",
    "unprofitable_month = 0\n",
    "\n",
    "# Put in a list or dictionary ? to count number of months"
   ]
  },
  {
   "cell_type": "code",
   "execution_count": null,
   "metadata": {},
   "outputs": [],
   "source": [
    "# Need to add header row"
   ]
  },
  {
   "cell_type": "code",
   "execution_count": null,
   "metadata": {},
   "outputs": [],
   "source": [
    "# Define variables\n",
    "# count off date to get number of \n",
    "# total sum off Profit/Loss"
   ]
  },
  {
   "cell_type": "code",
   "execution_count": null,
   "metadata": {},
   "outputs": [],
   "source": [
    "# Write new column called month_over_month_variance\n",
    "# Calculate average off month_over_month_variance\n",
    "\n",
    "# Maximum increase in profits off month_over_month_variance\n",
    "# Maximum decrease in profits off month_over_month_variance"
   ]
  },
  {
   "cell_type": "code",
   "execution_count": null,
   "metadata": {},
   "outputs": [],
   "source": [
    "# print out the financial analysis\n",
    "print(\"---------Financial Analysis----------\")\n",
    "print(f\"Total Months: {count}\")\n",
    "print(f\"Total PnL: {total}\")\n",
    "print(f\"Average Change: {average}\")\n",
    "print(f\"Greatest Increase in Profits: {month} {maximum_pnl}\")\n",
    "print(f\"Greatest Decrease in Profits: {month} {minimum_pnl}\")"
   ]
  },
  {
   "cell_type": "code",
   "execution_count": null,
   "metadata": {},
   "outputs": [],
   "source": []
  },
  {
   "cell_type": "code",
   "execution_count": null,
   "metadata": {},
   "outputs": [],
   "source": []
  }
 ],
 "metadata": {
  "kernelspec": {
   "display_name": "Python 3",
   "language": "python",
   "name": "python3"
  },
  "language_info": {
   "codemirror_mode": {
    "name": "ipython",
    "version": 3
   },
   "file_extension": ".py",
   "mimetype": "text/x-python",
   "name": "python",
   "nbconvert_exporter": "python",
   "pygments_lexer": "ipython3",
   "version": "3.8.3"
  }
 },
 "nbformat": 4,
 "nbformat_minor": 4
}
